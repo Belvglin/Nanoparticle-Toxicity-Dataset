{
  "nbformat": 4,
  "nbformat_minor": 0,
  "metadata": {
    "colab": {
      "provenance": [],
      "authorship_tag": "ABX9TyNF5qph3kBXbSjMDG/TbuAV",
      "include_colab_link": true
    },
    "kernelspec": {
      "name": "python3",
      "display_name": "Python 3"
    },
    "language_info": {
      "name": "python"
    }
  },
  "cells": [
    {
      "cell_type": "markdown",
      "metadata": {
        "id": "view-in-github",
        "colab_type": "text"
      },
      "source": [
        "<a href=\"https://colab.research.google.com/github/Belvglin/Nanoparticle-Toxicity-Dataset/blob/main/%D0%9F%D1%80%D0%BE%D0%B1%D0%B0.ipynb\" target=\"_parent\"><img src=\"https://colab.research.google.com/assets/colab-badge.svg\" alt=\"Open In Colab\"/></a>"
      ]
    },
    {
      "cell_type": "code",
      "execution_count": 27,
      "metadata": {
        "colab": {
          "base_uri": "https://localhost:8080/",
          "height": 106
        },
        "id": "MDoYaRAM2xf0",
        "outputId": "527d0caa-b04e-4452-b8ca-68575f85d90c"
      },
      "outputs": [
        {
          "output_type": "error",
          "ename": "IndentationError",
          "evalue": "unexpected indent (<ipython-input-27-05239c5fdf3f>, line 8)",
          "traceback": [
            "\u001b[0;36m  File \u001b[0;32m\"<ipython-input-27-05239c5fdf3f>\"\u001b[0;36m, line \u001b[0;32m8\u001b[0m\n\u001b[0;31m    x = [4,5,10,4,3,11,14,6,10,12]\u001b[0m\n\u001b[0m    ^\u001b[0m\n\u001b[0;31mIndentationError\u001b[0m\u001b[0;31m:\u001b[0m unexpected indent\n"
          ]
        }
      ],
      "source": [
        "print (11111*1111111)\n",
        "print (40//8)\n",
        "print (42//8)\n",
        "print (42/8)\n",
        "print (42%8)\n",
        "print (2**3)\n",
        "print (2014**14)\n",
        " x = [4,5,10,4,3,11,14,6,10,12]\n",
        " y = [21,19,24,17,16,25,25,24,22,21,21]\n",
        "\n"
      ]
    },
    {
      "cell_type": "markdown",
      "source": [
        "**Pandas**\n",
        "\n"
      ],
      "metadata": {
        "id": "EzDgJLGTHuXJ"
      }
    },
    {
      "cell_type": "code",
      "source": [],
      "metadata": {
        "id": "VK1ixOAUHyNR"
      },
      "execution_count": null,
      "outputs": []
    },
    {
      "cell_type": "code",
      "source": [
        "import pandas as pd\n",
        "cvsData = pd.read_csv(\"nanotox_dataset.csv\")\n",
        "cvsData.sort_values(cvsData.columns[1],inplace=True)\n",
        "cvsData.plot(x='coresize',y='surfarea')\n"
      ],
      "metadata": {
        "colab": {
          "base_uri": "https://localhost:8080/",
          "height": 466
        },
        "id": "--qmYfb_5tKn",
        "outputId": "e22d22c9-5379-4ccf-93e5-e3822dccb2ce"
      },
      "execution_count": null,
      "outputs": [
        {
          "output_type": "execute_result",
          "data": {
            "text/plain": [
              "<Axes: xlabel='coresize'>"
            ]
          },
          "metadata": {},
          "execution_count": 5
        },
        {
          "output_type": "display_data",
          "data": {
            "text/plain": [
              "<Figure size 640x480 with 1 Axes>"
            ],
            "image/png": "[encoded data removed]"
          },
          "metadata": {}
        }
      ]
    },
    {
      "cell_type": "code",
      "source": [
        "# Опробование функций\n",
        "print (\"Результат: базовый инвалид\")\n",
        "print (\"Результат: базовый инвалид\", 5,67)\n",
        "print (\"Результат: базовый инвалид\", 5,67, sep=\"|\")\n",
        "print (\"Результат: базовый инвалид\", 5,67, sep=\"\")\n",
        "print (\"Second line \")\n",
        "print (\"Second line \", end=\"\")\n",
        "print (\"third line\")\n",
        "# end=\\n в конце строчки для перехода на  новую строку\n",
        "print (\"Second line \", end=\"!\")\n",
        "print (\"third line\")\n",
        "print (\"third \\\" line\")\n",
        "print ('third \" line')\n",
        "print ('third  \\nl\\ni\\nn\\ne')\n",
        "print ('third \\t line')\n",
        "print ('third \\\\ line')\n",
        "# t - табуляция (большой пробел)\n",
        "# ctrl+/ = закомментировать строку\n",
        "print (min(1,2,3,6,9,8,-2,-8))\n",
        "# max, min , abs - модуль, pow(5,3) - возведение в степень,\n",
        "#round (5/3) - ркругление к ближайшему целому\n",
        "\n"
      ],
      "metadata": {
        "colab": {
          "base_uri": "https://localhost:8080/"
        },
        "id": "kPZRpsRn84ii",
        "outputId": "8cf3b033-5d34-4171-9bd1-5335c2ef0daf"
      },
      "execution_count": 21,
      "outputs": [
        {
          "output_type": "stream",
          "name": "stdout",
          "text": [
            "Результат: базовый инвалид\n",
            "Результат: базовый инвалид 5 67\n",
            "Результат: базовый инвалид|5|67\n",
            "Результат: базовый инвалид567\n",
            "Second line \n",
            "Second line third line\n",
            "Second line !third line\n",
            "third \" line\n",
            "third \" line\n",
            "third  \n",
            "l\n",
            "i\n",
            "n\n",
            "e\n",
            "third \t line\n",
            "third \\ line\n",
            "-8\n"
          ]
        }
      ]
    },
    {
      "cell_type": "code",
      "source": [
        "#input() - получение данных от пользователя\n",
        "input (\"Введите свой возраст:\")\n"
      ],
      "metadata": {
        "colab": {
          "base_uri": "https://localhost:8080/",
          "height": 53
        },
        "id": "k47T82sqBQjR",
        "outputId": "fa50152e-6185-4229-de1c-4915170c32cb"
      },
      "execution_count": 25,
      "outputs": [
        {
          "name": "stdout",
          "output_type": "stream",
          "text": [
            "Введите свой возраст:23\n"
          ]
        },
        {
          "output_type": "execute_result",
          "data": {
            "text/plain": [
              "'23'"
            ],
            "application/vnd.google.colaboratory.intrinsic+json": {
              "type": "string"
            }
          },
          "metadata": {},
          "execution_count": 25
        }
      ]
    },
    {
      "cell_type": "markdown",
      "source": [
        "Переменные и типы данных"
      ],
      "metadata": {
        "id": "KVc8xqPOD5SX"
      }
    },
    {
      "cell_type": "code",
      "source": [
        "number = 5 #integer - целые числа\n",
        "print(number)\n",
        "number = 7\n",
        "print(number)\n",
        "#del number - удаление переменной\n",
        "digit = 4.5489522 #float\n",
        "word = 'Result' #string\n",
        "print (word, digit)\n",
        "boolean = True #bool\n",
        "print (boolean)\n",
        "#str(digit) - преобразование переменной в строку string\n",
        "molk = '5'\n",
        "int(molk)\n",
        "#int(molk) - преобразование в число"
      ],
      "metadata": {
        "colab": {
          "base_uri": "https://localhost:8080/"
        },
        "id": "PkIXmHTdDk3y",
        "outputId": "172bf6b8-ae85-41db-cf08-ea0e95ef097b"
      },
      "execution_count": 34,
      "outputs": [
        {
          "output_type": "stream",
          "name": "stdout",
          "text": [
            "5\n",
            "7\n",
            "Result 4.5489522\n",
            "True\n"
          ]
        },
        {
          "output_type": "execute_result",
          "data": {
            "text/plain": [
              "5"
            ]
          },
          "metadata": {},
          "execution_count": 34
        }
      ]
    },
    {
      "cell_type": "code",
      "source": [
        "num1 = int(input('put a first number'))\n",
        "num2 = int(input ('put second number'))\n",
        "num1 +=5 #num1=num1+5\n",
        "print('Result', num1+num2)\n",
        "word = 'hi'\n",
        "print(word*2)"
      ],
      "metadata": {
        "id": "V8-rMxkpGJ4n",
        "outputId": "1613f8f2-753a-4723-d421-6d83427469ab",
        "colab": {
          "base_uri": "https://localhost:8080/"
        }
      },
      "execution_count": 39,
      "outputs": [
        {
          "output_type": "stream",
          "name": "stdout",
          "text": [
            "put a first number1\n",
            "put second number1\n",
            "Result 7\n",
            "hihi\n"
          ]
        }
      ]
    }
  ]
}